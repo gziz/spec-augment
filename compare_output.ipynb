{
 "cells": [
  {
   "cell_type": "code",
   "execution_count": 1,
   "metadata": {},
   "outputs": [
    {
     "name": "stderr",
     "output_type": "stream",
     "text": [
      "WARNING:root:Pytorch pre-release version 2.0.0.dev20230210 - assuming intent to test it\n"
     ]
    }
   ],
   "source": [
    "import importlib\n",
    "import numpy as np\n",
    "import random\n",
    "\n",
    "import specaugment_torch\n",
    "from utils import local_fairseq\n",
    "from utils.spectrogram import plot_specgram, create_specgram"
   ]
  },
  {
   "cell_type": "code",
   "execution_count": 2,
   "metadata": {},
   "outputs": [],
   "source": [
    "specgram_tensor_batch = create_specgram('audio_data/lex_30.wav', 1)\n",
    "specgram_tensor = specgram_tensor_batch[0]\n",
    "\n",
    "specgram_array = np.array(specgram_tensor)"
   ]
  },
  {
   "cell_type": "code",
   "execution_count": 3,
   "metadata": {},
   "outputs": [],
   "source": [
    "random.seed(42)\n",
    "fairseq_specaug = local_fairseq.SpecAugmentTransform(time_warp_w=900)\n",
    "# Fairseq takes (time, freq), transpose the specgram\n",
    "fairseq_augmented = fairseq_specaug(specgram_array.T)\n",
    "fairseq_augmented = fairseq_augmented.T"
   ]
  },
  {
   "cell_type": "code",
   "execution_count": 4,
   "metadata": {},
   "outputs": [],
   "source": [
    "#plot_specgram(torch.tensor(fairseq_augmented))"
   ]
  },
  {
   "cell_type": "code",
   "execution_count": 5,
   "metadata": {},
   "outputs": [],
   "source": [
    "random.seed(42)\n",
    "torch_specaug = specaugment_torch.SpecAugmentTransform(max_warp_length=900)\n",
    "torch_augmented = torch_specaug(specgram_tensor)"
   ]
  },
  {
   "cell_type": "code",
   "execution_count": 6,
   "metadata": {},
   "outputs": [],
   "source": [
    "#plot_specgram(torch_augmented[0])"
   ]
  },
  {
   "cell_type": "code",
   "execution_count": 7,
   "metadata": {},
   "outputs": [
    {
     "data": {
      "text/plain": [
       "2.547202"
      ]
     },
     "execution_count": 7,
     "metadata": {},
     "output_type": "execute_result"
    }
   ],
   "source": [
    "fairseq_augmented.mean()"
   ]
  },
  {
   "cell_type": "code",
   "execution_count": 8,
   "metadata": {},
   "outputs": [
    {
     "data": {
      "text/plain": [
       "0.037017822"
      ]
     },
     "execution_count": 8,
     "metadata": {},
     "output_type": "execute_result"
    }
   ],
   "source": [
    "abs(fairseq_augmented - torch_augmented.numpy()).max()"
   ]
  },
  {
   "cell_type": "code",
   "execution_count": 9,
   "metadata": {},
   "outputs": [],
   "source": [
    "diff = abs(fairseq_augmented - torch_augmented.numpy())"
   ]
  },
  {
   "cell_type": "code",
   "execution_count": 10,
   "metadata": {},
   "outputs": [
    {
     "data": {
      "text/plain": [
       "[0.037017822,\n",
       " 0.029296875,\n",
       " 0.027404785,\n",
       " 0.027015686,\n",
       " 0.023864746,\n",
       " 0.02331543,\n",
       " 0.023170471,\n",
       " 0.022750854,\n",
       " 0.021652222,\n",
       " 0.01878357]"
      ]
     },
     "execution_count": 10,
     "metadata": {},
     "output_type": "execute_result"
    }
   ],
   "source": [
    "# Top 10 highest discrepancies\n",
    "sorted(diff.flatten(), reverse=1)[:10]"
   ]
  },
  {
   "cell_type": "code",
   "execution_count": null,
   "metadata": {},
   "outputs": [],
   "source": []
  }
 ],
 "metadata": {
  "kernelspec": {
   "display_name": "mlh",
   "language": "python",
   "name": "python3"
  },
  "language_info": {
   "codemirror_mode": {
    "name": "ipython",
    "version": 3
   },
   "file_extension": ".py",
   "mimetype": "text/x-python",
   "name": "python",
   "nbconvert_exporter": "python",
   "pygments_lexer": "ipython3",
   "version": "3.10.9"
  },
  "orig_nbformat": 4,
  "vscode": {
   "interpreter": {
    "hash": "3f155d8048402fb3a18cead813eb21a46e62cadb2f8bcd23e8ad5de04023dbc0"
   }
  }
 },
 "nbformat": 4,
 "nbformat_minor": 2
}
