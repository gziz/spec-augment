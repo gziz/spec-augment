{
 "cells": [
  {
   "cell_type": "code",
   "execution_count": 1,
   "metadata": {},
   "outputs": [
    {
     "name": "stderr",
     "output_type": "stream",
     "text": [
      "2023-02-23 19:44:21 | INFO | fairseq.tasks.text_to_speech | Please install tensorboardX: pip install tensorboardX\n"
     ]
    }
   ],
   "source": [
    "import importlib\n",
    "import torch\n",
    "import torchaudio\n",
    "import librosa\n",
    "\n",
    "import torch.utils.benchmark as benchmark\n",
    "\n",
    "import prev_versions.transforms_prev as transforms_prev\n",
    "import transforms\n",
    "importlib.reload(transforms)\n",
    "import functional\n",
    "importlib.reload(functional)\n",
    "import utils.local_fairseq as local_fairseq\n",
    "\n",
    "from utils.plots import plot_spectrogram"
   ]
  },
  {
   "cell_type": "code",
   "execution_count": null,
   "metadata": {},
   "outputs": [],
   "source": [
    "torch_data, sr  = torchaudio.load('audio_data/lex_6.wav')\n",
    "librosa_mel = librosa.feature.melspectrogram(y=torch_data[0].numpy(),\n",
    "                                             n_fft=2048,\n",
    "                                             win_length=1024,\n",
    "                                             sr=sr)"
   ]
  },
  {
   "attachments": {},
   "cell_type": "markdown",
   "metadata": {},
   "source": [
    "# Benchmark"
   ]
  },
  {
   "cell_type": "code",
   "execution_count": null,
   "metadata": {},
   "outputs": [],
   "source": [
    "torch_data, sr  = torchaudio.load('audio_data/lex_30.wav')\n",
    "librosa_mel = librosa.feature.melspectrogram(y=torch_data[0].numpy(),\n",
    "                                             n_fft=2048,\n",
    "                                             win_length=1024,\n",
    "                                             sr=sr)"
   ]
  },
  {
   "attachments": {},
   "cell_type": "markdown",
   "metadata": {},
   "source": [
    "### SpecAugment"
   ]
  },
  {
   "cell_type": "code",
   "execution_count": null,
   "metadata": {},
   "outputs": [],
   "source": [
    "torch_spec_prev = transforms_prev.SpecAugment(\n",
    "            time_warp_w = 150,\n",
    "            freq_mask_n = 2,\n",
    "            freq_mask_f = 10,\n",
    "            time_mask_n = 3,\n",
    "            time_mask_t = 50,\n",
    "            time_mask_p = 1.0,\n",
    ")\n",
    "\n",
    "torch_spec = transforms.SpecAugment(\n",
    "            warp_axis=1,\n",
    "            warp_w = 50,\n",
    "            freq_mask_num = 0,\n",
    "            freq_mask_param = 10,\n",
    "            freq_mask_p = 1.0,\n",
    "            time_mask_num = 5,\n",
    "            time_mask_param = 50,\n",
    "            time_mask_p = 1.0,\n",
    ")\n",
    "\n",
    "fairseq_spec = \\\n",
    "    local_fairseq.SpecAugmentTransform(\n",
    "        time_warp_w = 50,\n",
    "        freq_mask_n = 2,\n",
    "        freq_mask_f = 50,\n",
    "        time_mask_n = 2,\n",
    "        time_mask_t = 10,\n",
    "        time_mask_p = 1.0,\n",
    ")"
   ]
  },
  {
   "cell_type": "code",
   "execution_count": null,
   "metadata": {},
   "outputs": [
    {
     "name": "stderr",
     "output_type": "stream",
     "text": [
      "[W ParallelNative.cpp:230] Warning: Cannot set number of intraop threads after parallel work has started or after set_num_threads call when using native parallel backend (function set_num_threads)\n",
      "[W ParallelNative.cpp:230] Warning: Cannot set number of intraop threads after parallel work has started or after set_num_threads call when using native parallel backend (function set_num_threads)\n",
      "[W ParallelNative.cpp:230] Warning: Cannot set number of intraop threads after parallel work has started or after set_num_threads call when using native parallel backend (function set_num_threads)\n"
     ]
    }
   ],
   "source": [
    "torch_tensor = torch.tensor(librosa_mel)\n",
    "t0 = benchmark.Timer(\n",
    "    stmt='augmented = torch_spec(mel)',\n",
    "    label='* SPECAUGMENT WITH TORCH TIMESTRETCH',\n",
    "    globals={\"mel\": torch_tensor, \"torch_spec\": torch_spec_prev})\n",
    "\n",
    "torch_tensor_3d = torch.tensor(librosa_mel).unsqueeze(0)\n",
    "t1 = benchmark.Timer(\n",
    "    stmt=\"augmented = torch_spec(mel)\",\n",
    "    label='* SPECAUGMENT WITH TORCH INTERPOLATE',\n",
    "    globals={\"mel\": torch_tensor_3d, \"torch_spec\": torch_spec})\n",
    "\n",
    "t2 = benchmark.Timer(\n",
    "    stmt='augmented = fairseq_spec(mel)',\n",
    "    label='* SPECAUGMENT WITH FAIRSEQ',\n",
    "    globals={\"mel\": librosa_mel, \"fairseq_spec\": fairseq_spec})\n",
    "\n",
    "\n",
    "res0 = t0.timeit(500)\n",
    "res1 = t1.timeit(500)\n",
    "res2 = t2.timeit(500)"
   ]
  },
  {
   "cell_type": "code",
   "execution_count": null,
   "metadata": {},
   "outputs": [
    {
     "name": "stdout",
     "output_type": "stream",
     "text": [
      "<torch.utils.benchmark.utils.common.Measurement object at 0x10cef3160>\n",
      "* SPECAUGMENT WITH TORCH TIMESTRETCH\n",
      "  4.48 ms\n",
      "  1 measurement, 500 runs , 1 thread\n",
      "<torch.utils.benchmark.utils.common.Measurement object at 0x108047490>\n",
      "* SPECAUGMENT WITH TORCH INTERPOLATE\n",
      "  461.11 us\n",
      "  1 measurement, 500 runs , 1 thread\n",
      "<torch.utils.benchmark.utils.common.Measurement object at 0x14cd3ff70>\n",
      "* SPECAUGMENT WITH FAIRSEQ\n",
      "  337.90 us\n",
      "  1 measurement, 500 runs , 1 thread\n"
     ]
    }
   ],
   "source": [
    "print(res0)\n",
    "print(res1)\n",
    "print(res2)\n"
   ]
  },
  {
   "attachments": {},
   "cell_type": "markdown",
   "metadata": {},
   "source": [
    "### Warp Axis"
   ]
  },
  {
   "cell_type": "code",
   "execution_count": null,
   "metadata": {},
   "outputs": [],
   "source": [
    "t0 = benchmark.Timer(\n",
    "    stmt='augmented = warp_axis_torch(mel, 1, 200)',\n",
    "    label='* WARP AXIS WITH TORCH INTERPOLATE',\n",
    "    globals={\"mel\": torch.tensor(librosa_mel), \"warp_axis_torch\": functional.warp_axis_torch})\n",
    "\n",
    "t1 = benchmark.Timer(\n",
    "    stmt='augmented = warp_axis_cv2(mel, 1, 200)',\n",
    "    label='* WARP AXIS WITH CV2 RESIZE',\n",
    "    globals={\"mel\": librosa_mel, \"warp_axis_cv2\": functional.warp_axis_cv2})\n",
    "\n",
    "res0 = t0.timeit(5000)\n",
    "res1 = t1.timeit(5000)"
   ]
  },
  {
   "cell_type": "code",
   "execution_count": null,
   "metadata": {},
   "outputs": [
    {
     "name": "stdout",
     "output_type": "stream",
     "text": [
      "<torch.utils.benchmark.utils.common.Measurement object at 0x150b03160>\n",
      "* WARP AXIS WITH TORCH INTERPOLATE\n",
      "  435.73 us\n",
      "  1 measurement, 5000 runs , 1 thread\n",
      "<torch.utils.benchmark.utils.common.Measurement object at 0x291f165c0>\n",
      "* WARP AXIS WITH CV2 RESIZE\n",
      "  283.40 us\n",
      "  1 measurement, 5000 runs , 1 thread\n"
     ]
    }
   ],
   "source": [
    "print(res0)\n",
    "print(res1)"
   ]
  },
  {
   "attachments": {},
   "cell_type": "markdown",
   "metadata": {},
   "source": [
    "### torch.nn.interpolate vs cv2.Resize"
   ]
  },
  {
   "cell_type": "code",
   "execution_count": null,
   "metadata": {},
   "outputs": [
    {
     "data": {
      "text/plain": [
       "torch.Size([1, 1, 128, 2584])"
      ]
     },
     "execution_count": 10,
     "metadata": {},
     "output_type": "execute_result"
    }
   ],
   "source": [
    "tensor_mel.shape"
   ]
  },
  {
   "cell_type": "code",
   "execution_count": null,
   "metadata": {},
   "outputs": [],
   "source": [
    "new_sz = (800, 800)\n",
    "t0 = benchmark.Timer(\n",
    "    stmt='resize(mel, dsize=(800,800), interpolation=cv2.INTER_LINEAR)',\n",
    "    setup=\"import cv2\",\n",
    "    label=\"* CV2 RESIZE\",\n",
    "    globals={\"mel\": librosa_mel, \"resize\": cv2.resize})\n",
    "\n",
    "\n",
    "tensor_mel = torch.tensor(librosa_mel)\n",
    "tensor_mel = tensor_mel[(None,)*2]\n",
    "t1 = benchmark.Timer(\n",
    "    stmt = \"interpolate(mel, size=(800,800), mode='bilinear')\",\n",
    "    label=\"* TORCH INTERPOLATE\",\n",
    "    globals={\"mel\": tensor_mel, \"interpolate\": torch.nn.functional.interpolate})\n",
    "\n",
    "res0 = t0.timeit(5000)\n",
    "res1 = t1.timeit(5000)"
   ]
  },
  {
   "cell_type": "code",
   "execution_count": null,
   "metadata": {},
   "outputs": [
    {
     "name": "stdout",
     "output_type": "stream",
     "text": [
      "<torch.utils.benchmark.utils.common.Measurement object at 0x105f13040>\n",
      "* CV2 RESIZE\n",
      "setup: import cv2\n",
      "  173.95 us\n",
      "  1 measurement, 5000 runs , 1 thread\n",
      "<torch.utils.benchmark.utils.common.Measurement object at 0x294197700>\n",
      "* TORCH INTERPOLATE\n",
      "  373.30 us\n",
      "  1 measurement, 5000 runs , 1 thread\n"
     ]
    }
   ],
   "source": [
    "print(res0)\n",
    "print(res1)"
   ]
  },
  {
   "cell_type": "code",
   "execution_count": null,
   "metadata": {},
   "outputs": [],
   "source": []
  }
 ],
 "metadata": {
  "kernelspec": {
   "display_name": "mlh",
   "language": "python",
   "name": "python3"
  },
  "language_info": {
   "codemirror_mode": {
    "name": "ipython",
    "version": 3
   },
   "file_extension": ".py",
   "mimetype": "text/x-python",
   "name": "python",
   "nbconvert_exporter": "python",
   "pygments_lexer": "ipython3",
   "version": "3.10.9"
  },
  "orig_nbformat": 4,
  "vscode": {
   "interpreter": {
    "hash": "3f155d8048402fb3a18cead813eb21a46e62cadb2f8bcd23e8ad5de04023dbc0"
   }
  }
 },
 "nbformat": 4,
 "nbformat_minor": 2
}
