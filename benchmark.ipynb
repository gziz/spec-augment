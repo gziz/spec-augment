{
 "cells": [
  {
   "cell_type": "code",
   "execution_count": 1,
   "metadata": {},
   "outputs": [
    {
     "name": "stderr",
     "output_type": "stream",
     "text": [
      "2023-02-21 09:54:30 | INFO | fairseq.tasks.text_to_speech | Please install tensorboardX: pip install tensorboardX\n"
     ]
    }
   ],
   "source": [
    "import importlib\n",
    "import cv2\n",
    "import torch\n",
    "import torchaudio\n",
    "import librosa\n",
    "\n",
    "import torch.utils.benchmark as benchmark\n",
    "from torch.profiler import profile, record_function, ProfilerActivity\n",
    "import cProfile\n",
    "import pstats\n",
    "\n",
    "import transforms\n",
    "import transforms_v2\n",
    "importlib.reload(transforms_v2)\n",
    "import functional_v2\n",
    "importlib.reload(functional_v2)\n",
    "import utils.local_fairseq as local_fairseq\n",
    "\n",
    "from utils.plots import plot_spectrogram"
   ]
  },
  {
   "attachments": {},
   "cell_type": "markdown",
   "metadata": {},
   "source": [
    "# Profiling"
   ]
  },
  {
   "cell_type": "code",
   "execution_count": 44,
   "metadata": {},
   "outputs": [],
   "source": [
    "torch_data, sr  = torchaudio.load('audio_data/lex_6.wav')\n",
    "librosa_mel = librosa.feature.melspectrogram(y=torch_data[0].numpy(),\n",
    "                                             n_fft=2048,\n",
    "                                             win_length=1024,\n",
    "                                             sr=sr)"
   ]
  },
  {
   "attachments": {},
   "cell_type": "markdown",
   "metadata": {},
   "source": [
    "## SpecAugment"
   ]
  },
  {
   "attachments": {},
   "cell_type": "markdown",
   "metadata": {},
   "source": [
    "SpecAugment first implementation"
   ]
  },
  {
   "cell_type": "code",
   "execution_count": 39,
   "metadata": {},
   "outputs": [],
   "source": [
    "torch_spec = transforms.SpecAugment(\n",
    "            time_warp_w = 150,\n",
    "            freq_mask_n = 2,\n",
    "            freq_mask_f = 10,\n",
    "            time_mask_n = 3,\n",
    "            time_mask_t = 40,\n",
    "            time_mask_p = 1.0,\n",
    ")"
   ]
  },
  {
   "cell_type": "code",
   "execution_count": 42,
   "metadata": {},
   "outputs": [
    {
     "name": "stdout",
     "output_type": "stream",
     "text": [
      "-----------------------------  ------------  ------------  ------------  ------------  ------------  ------------  \n",
      "                         Name    Self CPU %      Self CPU   CPU total %     CPU total  CPU time avg    # of Calls  \n",
      "-----------------------------  ------------  ------------  ------------  ------------  ------------  ------------  \n",
      "                mySpecAugment        41.42%       2.169ms       100.00%       5.236ms       5.236ms             1  \n",
      "                  aten::polar         5.31%     278.000us        10.52%     551.000us     137.750us             4  \n",
      "                    aten::sub         8.23%     431.000us         8.48%     444.000us      34.154us            13  \n",
      "           aten::index_select         5.83%     305.000us         6.09%     319.000us      79.750us             4  \n",
      "                  aten::angle         4.98%     261.000us         5.63%     295.000us      49.167us             6  \n",
      "                    aten::abs         2.73%     143.000us         5.23%     274.000us      34.250us             8  \n",
      "            aten::masked_fill         0.29%      15.000us         4.56%     239.000us     119.500us             2  \n",
      "                    aten::add         3.28%     172.000us         3.50%     183.000us      20.333us             9  \n",
      "                  aten::copy_         2.88%     151.000us         2.88%     151.000us       3.974us            38  \n",
      "                     aten::to         0.67%      35.000us         2.75%     144.000us       4.235us            34  \n",
      "-----------------------------  ------------  ------------  ------------  ------------  ------------  ------------  \n",
      "Self CPU time total: 5.236ms\n",
      "\n"
     ]
    },
    {
     "name": "stderr",
     "output_type": "stream",
     "text": [
      "STAGE:2023-02-18 19:44:48 1707:3895196 ActivityProfilerController.cpp:311] Completed Stage: Warm Up\n",
      "STAGE:2023-02-18 19:44:48 1707:3895196 ActivityProfilerController.cpp:317] Completed Stage: Collection\n",
      "STAGE:2023-02-18 19:44:48 1707:3895196 ActivityProfilerController.cpp:321] Completed Stage: Post Processing\n"
     ]
    }
   ],
   "source": [
    "with profile(activities=[ProfilerActivity.CPU], record_shapes=True) as prof:\n",
    "    with record_function(\"mySpecAugment\"):\n",
    "        augmented = torch_spec(librosa_mel)\n",
    "\n",
    "print(prof.key_averages().table(sort_by=\"cpu_time_total\", row_limit=10))"
   ]
  },
  {
   "attachments": {},
   "cell_type": "markdown",
   "metadata": {},
   "source": [
    "## Torch Built-ins"
   ]
  },
  {
   "cell_type": "code",
   "execution_count": 152,
   "metadata": {},
   "outputs": [],
   "source": [
    "torch_data, sr  = torchaudio.load('audio_data/lex_30.wav')\n",
    "librosa_mel = librosa.feature.melspectrogram(y=torch_data[0].numpy(),\n",
    "                                             n_fft=2048,\n",
    "                                             win_length=1024,\n",
    "                                             sr=sr)\n",
    "\n",
    "tensor_mel = torch.tensor(librosa_mel)"
   ]
  },
  {
   "attachments": {},
   "cell_type": "markdown",
   "metadata": {},
   "source": [
    "### Time Stretch"
   ]
  },
  {
   "cell_type": "code",
   "execution_count": 154,
   "metadata": {},
   "outputs": [
    {
     "name": "stdout",
     "output_type": "stream",
     "text": [
      "-------------------------  ------------  ------------  ------------  ------------  ------------  ------------  \n",
      "                     Name    Self CPU %      Self CPU   CPU total %     CPU total  CPU time avg    # of Calls  \n",
      "-------------------------  ------------  ------------  ------------  ------------  ------------  ------------  \n",
      "         torchTimeStretch        38.99%       5.380ms       100.00%      13.797ms      13.797ms             1  \n",
      "                aten::abs         8.85%       1.221ms        22.50%       3.105ms     776.250us             4  \n",
      "              aten::polar         5.63%     777.000us        11.21%       1.546ms     773.000us             2  \n",
      "       aten::index_select        10.19%       1.406ms        10.26%       1.416ms     708.000us             2  \n",
      "              aten::angle         6.34%     875.000us         6.36%     877.000us     292.333us             3  \n",
      "              aten::empty         5.36%     739.000us         5.36%     739.000us      73.900us            10  \n",
      "                aten::sub         4.82%     665.000us         4.90%     676.000us     169.000us             4  \n",
      "                aten::pad         0.03%       4.000us         4.27%     589.000us     589.000us             1  \n",
      "                aten::add         4.20%     579.000us         4.25%     587.000us     195.667us             3  \n",
      "    aten::constant_pad_nd         0.12%      16.000us         4.24%     585.000us     585.000us             1  \n",
      "-------------------------  ------------  ------------  ------------  ------------  ------------  ------------  \n",
      "Self CPU time total: 13.797ms\n",
      "\n"
     ]
    },
    {
     "name": "stderr",
     "output_type": "stream",
     "text": [
      "STAGE:2023-02-21 09:21:18 43284:4990461 ActivityProfilerController.cpp:311] Completed Stage: Warm Up\n",
      "STAGE:2023-02-21 09:21:18 43284:4990461 ActivityProfilerController.cpp:317] Completed Stage: Collection\n",
      "STAGE:2023-02-21 09:21:18 43284:4990461 ActivityProfilerController.cpp:321] Completed Stage: Post Processing\n"
     ]
    }
   ],
   "source": [
    "n_freq = librosa_mel.shape[-2]\n",
    "stretch = torchaudio.transforms.TimeStretch(n_freq=n_freq)\n",
    "\n",
    "with profile(activities=[ProfilerActivity.CPU], record_shapes=True) as prof:\n",
    "    with record_function(\"torchTimeStretch\"):\n",
    "        augmented = stretch(tensor_mel.unsqueeze(0), 0.8)\n",
    "\n",
    "print(prof.key_averages().table(sort_by=\"cpu_time_total\", row_limit=10))"
   ]
  },
  {
   "attachments": {},
   "cell_type": "markdown",
   "metadata": {},
   "source": [
    "### Masking"
   ]
  },
  {
   "cell_type": "code",
   "execution_count": 147,
   "metadata": {},
   "outputs": [
    {
     "name": "stdout",
     "output_type": "stream",
     "text": [
      "-----------------------------  ------------  ------------  ------------  ------------  ------------  ------------  \n",
      "                         Name    Self CPU %      Self CPU   CPU total %     CPU total  CPU time avg    # of Calls  \n",
      "-----------------------------  ------------  ------------  ------------  ------------  ------------  ------------  \n",
      "             torchFreqMasking        50.44%       4.019ms       100.00%       7.968ms       7.968ms             1  \n",
      "            aten::masked_fill         7.66%     610.000us        27.84%       2.218ms       2.218ms             1  \n",
      "                  aten::clone        14.75%       1.175ms        18.31%       1.459ms       1.459ms             1  \n",
      "                aten::squeeze        11.63%     927.000us        11.73%     935.000us     467.500us             2  \n",
      "                     aten::ge         3.95%     315.000us         4.04%     322.000us     161.000us             2  \n",
      "                  aten::copy_         3.88%     309.000us         3.88%     309.000us      38.625us             8  \n",
      "                   aten::rand         1.19%      95.000us         2.11%     168.000us      84.000us             2  \n",
      "           aten::masked_fill_         1.81%     144.000us         1.81%     144.000us     144.000us             1  \n",
      "                     aten::to         0.15%      12.000us         1.69%     135.000us      19.286us             7  \n",
      "               aten::_to_copy         0.63%      50.000us         1.47%     117.000us      16.714us             7  \n",
      "-----------------------------  ------------  ------------  ------------  ------------  ------------  ------------  \n",
      "Self CPU time total: 7.968ms\n",
      "\n"
     ]
    },
    {
     "name": "stderr",
     "output_type": "stream",
     "text": [
      "STAGE:2023-02-21 09:19:46 43284:4990461 ActivityProfilerController.cpp:311] Completed Stage: Warm Up\n",
      "STAGE:2023-02-21 09:19:46 43284:4990461 ActivityProfilerController.cpp:317] Completed Stage: Collection\n",
      "STAGE:2023-02-21 09:19:46 43284:4990461 ActivityProfilerController.cpp:321] Completed Stage: Post Processing\n"
     ]
    }
   ],
   "source": [
    "masking = torchaudio.transforms.FrequencyMasking(freq_mask_param=20)\n",
    "\n",
    "with profile(activities=[ProfilerActivity.CPU], record_shapes=True) as prof:\n",
    "    with record_function(\"torchFreqMasking\"):\n",
    "        augmented = masking(librosa_mel)\n",
    "\n",
    "print(prof.key_averages().table(sort_by=\"cpu_time_total\", row_limit=10))"
   ]
  },
  {
   "attachments": {},
   "cell_type": "markdown",
   "metadata": {},
   "source": [
    "## Fairseq"
   ]
  },
  {
   "attachments": {},
   "cell_type": "markdown",
   "metadata": {},
   "source": [
    "Fairseq's SpecAugment Implementation"
   ]
  },
  {
   "cell_type": "code",
   "execution_count": 25,
   "metadata": {},
   "outputs": [],
   "source": [
    "fairseq_spec = \\\n",
    "    local_fairseq.SpecAugmentTransform(\n",
    "        time_warp_w = 150,\n",
    "        freq_mask_n = 2,\n",
    "        freq_mask_f = 40,\n",
    "        time_mask_n = 3,\n",
    "        time_mask_t = 10,\n",
    "        time_mask_p = 1.0,\n",
    ")"
   ]
  },
  {
   "cell_type": "code",
   "execution_count": 26,
   "metadata": {},
   "outputs": [],
   "source": [
    "librosa_mel = librosa.feature.melspectrogram(y=torch_data[0].numpy(),\n",
    "                                             n_fft=2048,\n",
    "                                             win_length=1024,\n",
    "                                             sr=sr)"
   ]
  },
  {
   "cell_type": "code",
   "execution_count": 27,
   "metadata": {},
   "outputs": [
    {
     "name": "stderr",
     "output_type": "stream",
     "text": [
      "STAGE:2023-02-18 19:42:41 1707:3895196 ActivityProfilerController.cpp:311] Completed Stage: Warm Up\n",
      "STAGE:2023-02-18 19:42:41 1707:3895196 ActivityProfilerController.cpp:317] Completed Stage: Collection\n",
      "STAGE:2023-02-18 19:42:41 1707:3895196 ActivityProfilerController.cpp:321] Completed Stage: Post Processing\n"
     ]
    }
   ],
   "source": [
    "with profile(activities=[ProfilerActivity.CPU], record_shapes=True) as prof:\n",
    "    with record_function(\"fairSpecAugment\"):\n",
    "        fairseq_spec(librosa_mel)"
   ]
  },
  {
   "cell_type": "code",
   "execution_count": 28,
   "metadata": {},
   "outputs": [
    {
     "name": "stdout",
     "output_type": "stream",
     "text": [
      "-------------------  ------------  ------------  ------------  ------------  ------------  ------------  \n",
      "               Name    Self CPU %      Self CPU   CPU total %     CPU total  CPU time avg    # of Calls  \n",
      "-------------------  ------------  ------------  ------------  ------------  ------------  ------------  \n",
      "    fairSpecAugment       100.00%     656.000us       100.00%     656.000us     656.000us             1  \n",
      "-------------------  ------------  ------------  ------------  ------------  ------------  ------------  \n",
      "Self CPU time total: 656.000us\n",
      "\n"
     ]
    }
   ],
   "source": [
    "print(prof.key_averages().table(sort_by=\"cpu_time_total\", row_limit=10))"
   ]
  },
  {
   "attachments": {},
   "cell_type": "markdown",
   "metadata": {},
   "source": [
    "## WarpAxis"
   ]
  },
  {
   "attachments": {},
   "cell_type": "markdown",
   "metadata": {},
   "source": [
    "#### Warp Axis Torch Interpolate"
   ]
  },
  {
   "cell_type": "code",
   "execution_count": 155,
   "metadata": {},
   "outputs": [
    {
     "name": "stdout",
     "output_type": "stream",
     "text": [
      "-------------------------------  ------------  ------------  ------------  ------------  ------------  ------------  \n",
      "                           Name    Self CPU %      Self CPU   CPU total %     CPU total  CPU time avg    # of Calls  \n",
      "-------------------------------  ------------  ------------  ------------  ------------  ------------  ------------  \n",
      "    warp_axis_interpolate_torch        67.64%       2.260ms       100.00%       3.341ms       3.341ms             1  \n",
      "      aten::upsample_bilinear2d        26.25%     877.000us        26.70%     892.000us     446.000us             2  \n",
      "                      aten::cat         3.86%     129.000us         4.22%     141.000us     141.000us             1  \n",
      "                    aten::slice         0.63%      21.000us         0.90%      30.000us       5.000us             6  \n",
      "                    aten::empty         0.42%      14.000us         0.42%      14.000us       0.875us            16  \n",
      "                 aten::squeeze_         0.30%      10.000us         0.42%      14.000us       7.000us             2  \n",
      "               aten::as_strided         0.39%      13.000us         0.39%      13.000us       1.083us            12  \n",
      "                aten::unsqueeze         0.18%       6.000us         0.27%       9.000us       2.250us             4  \n",
      "                   aten::narrow         0.21%       7.000us         0.27%       9.000us       4.500us             2  \n",
      "              aten::as_strided_         0.12%       4.000us         0.12%       4.000us       2.000us             2  \n",
      "-------------------------------  ------------  ------------  ------------  ------------  ------------  ------------  \n",
      "Self CPU time total: 3.341ms\n",
      "\n"
     ]
    },
    {
     "name": "stderr",
     "output_type": "stream",
     "text": [
      "STAGE:2023-02-21 09:21:32 43284:4990461 ActivityProfilerController.cpp:311] Completed Stage: Warm Up\n",
      "STAGE:2023-02-21 09:21:32 43284:4990461 ActivityProfilerController.cpp:317] Completed Stage: Collection\n",
      "STAGE:2023-02-21 09:21:32 43284:4990461 ActivityProfilerController.cpp:321] Completed Stage: Post Processing\n"
     ]
    }
   ],
   "source": [
    "tensor_mel = torch.tensor(librosa_mel)\n",
    "with profile(activities=[ProfilerActivity.CPU], record_shapes=True) as prof:\n",
    "    with record_function(\"warp_axis_interpolate_torch\"):\n",
    "        functional_v2.warp_axis_v2(tensor_mel, 1, 200)\n",
    "\n",
    "print(prof.key_averages().table(sort_by=\"cpu_time_total\", row_limit=10))"
   ]
  },
  {
   "cell_type": "code",
   "execution_count": 117,
   "metadata": {},
   "outputs": [
    {
     "name": "stdout",
     "output_type": "stream",
     "text": [
      "         79 function calls in 0.005 seconds\n",
      "\n",
      "   Ordered by: cumulative time\n",
      "   List reduced from 28 to 10 due to restriction <10>\n",
      "\n",
      "   ncalls  tottime  percall  cumtime  percall filename:lineno(function)\n",
      "        2    0.000    0.000    0.005    0.003 interactiveshell.py:3406(run_code)\n",
      "        2    0.000    0.000    0.005    0.003 {built-in method builtins.exec}\n",
      "        1    0.000    0.000    0.005    0.005 383942620.py:1(<module>)\n",
      "        1    0.002    0.002    0.005    0.005 functional_v2.py:41(warp_axis_v2)\n",
      "        2    0.001    0.000    0.002    0.001 functional.py:3772(interpolate)\n",
      "        2    0.001    0.001    0.001    0.001 {built-in method torch._C._nn.upsample_bilinear2d}\n",
      "        1    0.001    0.001    0.001    0.001 {built-in method torch.cat}\n",
      "        2    0.000    0.000    0.000    0.000 {method 'randint' of 'numpy.random.mtrand.RandomState' objects}\n",
      "        2    0.000    0.000    0.000    0.000 codeop.py:117(__call__)\n",
      "        2    0.000    0.000    0.000    0.000 {method 'squeeze_' of 'torch._C._TensorBase' objects}\n",
      "\n",
      "\n"
     ]
    },
    {
     "data": {
      "text/plain": [
       "<pstats.Stats at 0x29a12fd90>"
      ]
     },
     "execution_count": 117,
     "metadata": {},
     "output_type": "execute_result"
    }
   ],
   "source": [
    "prof = cProfile.Profile()\n",
    "prof.enable()\n",
    "functional_v2.warp_axis_v2(tensor_mel, 1, 200)\n",
    "prof.disable()\n",
    "\n",
    "stats = pstats.Stats(prof).strip_dirs().sort_stats(\"cumtime\")\n",
    "stats.print_stats(10) # top 10 rows"
   ]
  },
  {
   "attachments": {},
   "cell_type": "markdown",
   "metadata": {},
   "source": [
    "#### Warp Axis CV2"
   ]
  },
  {
   "cell_type": "code",
   "execution_count": 114,
   "metadata": {},
   "outputs": [
    {
     "name": "stdout",
     "output_type": "stream",
     "text": [
      "         47 function calls in 0.001 seconds\n",
      "\n",
      "   Ordered by: cumulative time\n",
      "   List reduced from 24 to 10 due to restriction <10>\n",
      "\n",
      "   ncalls  tottime  percall  cumtime  percall filename:lineno(function)\n",
      "        2    0.000    0.000    0.001    0.001 interactiveshell.py:3406(run_code)\n",
      "        2    0.000    0.000    0.001    0.001 {built-in method builtins.exec}\n",
      "        1    0.000    0.000    0.001    0.001 functional_v2.py:4(warp_axis)\n",
      "        2    0.001    0.000    0.001    0.000 {resize}\n",
      "        1    0.000    0.000    0.000    0.000 <__array_function__ internals>:177(concatenate)\n",
      "        1    0.000    0.000    0.000    0.000 {built-in method numpy.core._multiarray_umath.implement_array_function}\n",
      "        2    0.000    0.000    0.000    0.000 codeop.py:117(__call__)\n",
      "        2    0.000    0.000    0.000    0.000 {built-in method builtins.compile}\n",
      "        2    0.000    0.000    0.000    0.000 {method 'randint' of 'numpy.random.mtrand.RandomState' objects}\n",
      "        2    0.000    0.000    0.000    0.000 contextlib.py:279(helper)\n",
      "\n",
      "\n"
     ]
    },
    {
     "data": {
      "text/plain": [
       "<pstats.Stats at 0x29a145420>"
      ]
     },
     "execution_count": 114,
     "metadata": {},
     "output_type": "execute_result"
    }
   ],
   "source": [
    "prof = cProfile.Profile()\n",
    "prof.enable()\n",
    "functional_v2.warp_axis(librosa_mel, 1, 200)\n",
    "prof.disable()\n",
    "\n",
    "stats = pstats.Stats(prof).strip_dirs().sort_stats(\"cumtime\")\n",
    "stats.print_stats(10) # top 10 rows"
   ]
  },
  {
   "attachments": {},
   "cell_type": "markdown",
   "metadata": {},
   "source": [
    "# Benchmark"
   ]
  },
  {
   "cell_type": "code",
   "execution_count": 2,
   "metadata": {},
   "outputs": [],
   "source": [
    "torch_data, sr  = torchaudio.load('audio_data/lex_30.wav')\n",
    "librosa_mel = librosa.feature.melspectrogram(y=torch_data[0].numpy(),\n",
    "                                             n_fft=2048,\n",
    "                                             win_length=1024,\n",
    "                                             sr=sr)"
   ]
  },
  {
   "attachments": {},
   "cell_type": "markdown",
   "metadata": {},
   "source": [
    "### SpecAugment"
   ]
  },
  {
   "cell_type": "code",
   "execution_count": 3,
   "metadata": {},
   "outputs": [],
   "source": [
    "torch_spec = transforms.SpecAugment(\n",
    "            time_warp_w = 150,\n",
    "            freq_mask_n = 2,\n",
    "            freq_mask_f = 10,\n",
    "            time_mask_n = 3,\n",
    "            time_mask_t = 50,\n",
    "            time_mask_p = 1.0,\n",
    ")\n",
    "\n",
    "torch_spec_v2 = transforms_v2.SpecAugment(\n",
    "            warp_axis=1,\n",
    "            warp_w = 50,\n",
    "            freq_mask_num = 0,\n",
    "            freq_mask_param = 10,\n",
    "            freq_mask_p = 1.0,\n",
    "            time_mask_num = 5,\n",
    "            time_mask_param = 50,\n",
    "            time_mask_p = 1.0,\n",
    ")\n",
    "\n",
    "fairseq_spec = \\\n",
    "    local_fairseq.SpecAugmentTransform(\n",
    "        time_warp_w = 50,\n",
    "        freq_mask_n = 2,\n",
    "        freq_mask_f = 50,\n",
    "        time_mask_n = 2,\n",
    "        time_mask_t = 10,\n",
    "        time_mask_p = 1.0,\n",
    ")"
   ]
  },
  {
   "cell_type": "code",
   "execution_count": null,
   "metadata": {},
   "outputs": [],
   "source": [
    "t0 = benchmark.Timer(\n",
    "    stmt='augmented = torch_spec(mel)',\n",
    "    label='* SPECAUGMENT WITH TORCH TIMESTRETCH',\n",
    "    globals={\"mel\": torch.tensor(librosa_mel), \"torch_spec\": torch_spec})\n",
    "\n",
    "t1 = benchmark.Timer(\n",
    "    stmt=\"augmented = torch_spec_v2(mel, 'cv2')\",\n",
    "    label='* SPECAUGMENT WITH CV2 RESIZE',\n",
    "    globals={\"mel\": librosa_mel, \"torch_spec_v2\": torch_spec_v2})\n",
    "\n",
    "t2 = benchmark.Timer(\n",
    "    stmt=\"augmented = torch_spec_v2(mel, 'torch')\",\n",
    "    label='* SPECAUGMENT WITH TORCH INTERPOLATE',\n",
    "    globals={\"mel\": torch.tensor(librosa_mel), \"torch_spec_v2\": torch_spec_v2})\n",
    "\n",
    "t3 = benchmark.Timer(\n",
    "    stmt='augmented = fairseq_spec(mel)',\n",
    "    label='* SPECAUGMENT WITH FAIRSEQ',\n",
    "    globals={\"mel\": librosa_mel, \"fairseq_spec\": fairseq_spec})\n",
    "\n",
    "\n",
    "res0 = t0.timeit(500)\n",
    "res1 = t1.timeit(500)\n",
    "res2 = t2.timeit(500)\n",
    "res3 = t3.timeit(500)"
   ]
  },
  {
   "cell_type": "code",
   "execution_count": 5,
   "metadata": {},
   "outputs": [
    {
     "name": "stdout",
     "output_type": "stream",
     "text": [
      "<torch.utils.benchmark.utils.common.Measurement object at 0x294196b30>\n",
      "* SPECAUGMENT WITH TORCH TIMESTRETCH\n",
      "  4.68 ms\n",
      "  1 measurement, 500 runs , 1 thread\n",
      "<torch.utils.benchmark.utils.common.Measurement object at 0x294195d80>\n",
      "* SPECAUGMENT WITH CV2 RESIZE\n",
      "  292.06 us\n",
      "  1 measurement, 500 runs , 1 thread\n",
      "<torch.utils.benchmark.utils.common.Measurement object at 0x294196cb0>\n",
      "* SPECAUGMENT WITH TORCH INTERPOLATE\n",
      "  492.15 us\n",
      "  1 measurement, 500 runs , 1 thread\n",
      "<torch.utils.benchmark.utils.common.Measurement object at 0x294196500>\n",
      "* SPECAUGMENT WITH FAIRSEQ\n",
      "  355.52 us\n",
      "  1 measurement, 500 runs , 1 thread\n"
     ]
    }
   ],
   "source": [
    "print(res0)\n",
    "print(res1)\n",
    "print(res2)\n",
    "print(res3)"
   ]
  },
  {
   "attachments": {},
   "cell_type": "markdown",
   "metadata": {},
   "source": [
    "### Warp Axis"
   ]
  },
  {
   "cell_type": "code",
   "execution_count": null,
   "metadata": {},
   "outputs": [],
   "source": [
    "t0 = benchmark.Timer(\n",
    "    stmt='augmented = warp_axis_torch(mel, 1, 200)',\n",
    "    label='* WARP AXIS WITH TORCH INTERPOLATE',\n",
    "    globals={\"mel\": torch.tensor(librosa_mel), \"warp_axis_torch\": functional_v2.warp_axis_torch})\n",
    "\n",
    "t1 = benchmark.Timer(\n",
    "    stmt='augmented = warp_axis_cv2(mel, 1, 200)',\n",
    "    label='* WARP AXIS WITH CV2 RESIZE',\n",
    "    globals={\"mel\": librosa_mel, \"warp_axis_cv2\": functional_v2.warp_axis_cv2})\n",
    "\n",
    "res0 = t0.timeit(5000)\n",
    "res1 = t1.timeit(5000)"
   ]
  },
  {
   "cell_type": "code",
   "execution_count": 7,
   "metadata": {},
   "outputs": [
    {
     "name": "stdout",
     "output_type": "stream",
     "text": [
      "<torch.utils.benchmark.utils.common.Measurement object at 0x150b03160>\n",
      "* WARP AXIS WITH TORCH INTERPOLATE\n",
      "  435.73 us\n",
      "  1 measurement, 5000 runs , 1 thread\n",
      "<torch.utils.benchmark.utils.common.Measurement object at 0x291f165c0>\n",
      "* WARP AXIS WITH CV2 RESIZE\n",
      "  283.40 us\n",
      "  1 measurement, 5000 runs , 1 thread\n"
     ]
    }
   ],
   "source": [
    "print(res0)\n",
    "print(res1)"
   ]
  },
  {
   "attachments": {},
   "cell_type": "markdown",
   "metadata": {},
   "source": [
    "### torch.nn.interpolate vs cv2.Resize"
   ]
  },
  {
   "cell_type": "code",
   "execution_count": 10,
   "metadata": {},
   "outputs": [
    {
     "data": {
      "text/plain": [
       "torch.Size([1, 1, 128, 2584])"
      ]
     },
     "execution_count": 10,
     "metadata": {},
     "output_type": "execute_result"
    }
   ],
   "source": [
    "tensor_mel.shape"
   ]
  },
  {
   "cell_type": "code",
   "execution_count": null,
   "metadata": {},
   "outputs": [],
   "source": [
    "new_sz = (800, 800)\n",
    "t0 = benchmark.Timer(\n",
    "    stmt='resize(mel, dsize=(800,800), interpolation=cv2.INTER_LINEAR)',\n",
    "    setup=\"import cv2\",\n",
    "    label=\"* CV2 RESIZE\",\n",
    "    globals={\"mel\": librosa_mel, \"resize\": cv2.resize})\n",
    "\n",
    "\n",
    "tensor_mel = torch.tensor(librosa_mel)\n",
    "tensor_mel = tensor_mel[(None,)*2]\n",
    "t1 = benchmark.Timer(\n",
    "    stmt = \"interpolate(mel, size=(800,800), mode='bilinear')\",\n",
    "    label=\"* TORCH INTERPOLATE\",\n",
    "    globals={\"mel\": tensor_mel, \"interpolate\": torch.nn.functional.interpolate})\n",
    "\n",
    "res0 = t0.timeit(5000)\n",
    "res1 = t1.timeit(5000)"
   ]
  },
  {
   "cell_type": "code",
   "execution_count": 9,
   "metadata": {},
   "outputs": [
    {
     "name": "stdout",
     "output_type": "stream",
     "text": [
      "<torch.utils.benchmark.utils.common.Measurement object at 0x105f13040>\n",
      "* CV2 RESIZE\n",
      "setup: import cv2\n",
      "  173.95 us\n",
      "  1 measurement, 5000 runs , 1 thread\n",
      "<torch.utils.benchmark.utils.common.Measurement object at 0x294197700>\n",
      "* TORCH INTERPOLATE\n",
      "  373.30 us\n",
      "  1 measurement, 5000 runs , 1 thread\n"
     ]
    }
   ],
   "source": [
    "print(res0)\n",
    "print(res1)"
   ]
  },
  {
   "cell_type": "code",
   "execution_count": null,
   "metadata": {},
   "outputs": [],
   "source": []
  }
 ],
 "metadata": {
  "kernelspec": {
   "display_name": "mlh",
   "language": "python",
   "name": "python3"
  },
  "language_info": {
   "codemirror_mode": {
    "name": "ipython",
    "version": 3
   },
   "file_extension": ".py",
   "mimetype": "text/x-python",
   "name": "python",
   "nbconvert_exporter": "python",
   "pygments_lexer": "ipython3",
   "version": "3.10.9"
  },
  "orig_nbformat": 4,
  "vscode": {
   "interpreter": {
    "hash": "3f155d8048402fb3a18cead813eb21a46e62cadb2f8bcd23e8ad5de04023dbc0"
   }
  }
 },
 "nbformat": 4,
 "nbformat_minor": 2
}
