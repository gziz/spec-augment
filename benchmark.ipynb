{
 "cells": [
  {
   "cell_type": "code",
   "execution_count": 2,
   "metadata": {},
   "outputs": [],
   "source": [
    "import torch\n",
    "import torchaudio\n",
    "import librosa\n",
    "\n",
    "import transforms\n",
    "import transforms_v2\n",
    "import utils.local_fairseq as local_fairseq\n",
    "\n",
    "from utils.plots import plot_spectrogram"
   ]
  },
  {
   "attachments": {},
   "cell_type": "markdown",
   "metadata": {},
   "source": [
    "# Profiling"
   ]
  },
  {
   "cell_type": "code",
   "execution_count": 37,
   "metadata": {},
   "outputs": [],
   "source": [
    "from torch.profiler import profile, record_function, ProfilerActivity"
   ]
  },
  {
   "attachments": {},
   "cell_type": "markdown",
   "metadata": {},
   "source": [
    "### SpecAugment"
   ]
  },
  {
   "cell_type": "code",
   "execution_count": 38,
   "metadata": {},
   "outputs": [],
   "source": [
    "torch_data, sr  = torchaudio.load('audio_data/lex_6.wav')\n",
    "librosa_mel = librosa.feature.melspectrogram(y=torch_data[0].numpy(),\n",
    "                                             n_fft=2048,\n",
    "                                             win_length=1024,\n",
    "                                             sr=sr)\n",
    "\n",
    "librosa_mel = torch.tensor(librosa_mel)"
   ]
  },
  {
   "cell_type": "code",
   "execution_count": 39,
   "metadata": {},
   "outputs": [],
   "source": [
    "torch_spec = transforms.SpecAugment(\n",
    "            time_warp_w = 150,\n",
    "            freq_mask_n = 2,\n",
    "            freq_mask_f = 10,\n",
    "            time_mask_n = 3,\n",
    "            time_mask_t = 40,\n",
    "            time_mask_p = 1.0,\n",
    ")"
   ]
  },
  {
   "cell_type": "code",
   "execution_count": 42,
   "metadata": {},
   "outputs": [
    {
     "name": "stdout",
     "output_type": "stream",
     "text": [
      "-----------------------------  ------------  ------------  ------------  ------------  ------------  ------------  \n",
      "                         Name    Self CPU %      Self CPU   CPU total %     CPU total  CPU time avg    # of Calls  \n",
      "-----------------------------  ------------  ------------  ------------  ------------  ------------  ------------  \n",
      "                mySpecAugment        41.42%       2.169ms       100.00%       5.236ms       5.236ms             1  \n",
      "                  aten::polar         5.31%     278.000us        10.52%     551.000us     137.750us             4  \n",
      "                    aten::sub         8.23%     431.000us         8.48%     444.000us      34.154us            13  \n",
      "           aten::index_select         5.83%     305.000us         6.09%     319.000us      79.750us             4  \n",
      "                  aten::angle         4.98%     261.000us         5.63%     295.000us      49.167us             6  \n",
      "                    aten::abs         2.73%     143.000us         5.23%     274.000us      34.250us             8  \n",
      "            aten::masked_fill         0.29%      15.000us         4.56%     239.000us     119.500us             2  \n",
      "                    aten::add         3.28%     172.000us         3.50%     183.000us      20.333us             9  \n",
      "                  aten::copy_         2.88%     151.000us         2.88%     151.000us       3.974us            38  \n",
      "                     aten::to         0.67%      35.000us         2.75%     144.000us       4.235us            34  \n",
      "-----------------------------  ------------  ------------  ------------  ------------  ------------  ------------  \n",
      "Self CPU time total: 5.236ms\n",
      "\n"
     ]
    },
    {
     "name": "stderr",
     "output_type": "stream",
     "text": [
      "STAGE:2023-02-18 19:44:48 1707:3895196 ActivityProfilerController.cpp:311] Completed Stage: Warm Up\n",
      "STAGE:2023-02-18 19:44:48 1707:3895196 ActivityProfilerController.cpp:317] Completed Stage: Collection\n",
      "STAGE:2023-02-18 19:44:48 1707:3895196 ActivityProfilerController.cpp:321] Completed Stage: Post Processing\n"
     ]
    }
   ],
   "source": [
    "with profile(activities=[ProfilerActivity.CPU], record_shapes=True) as prof:\n",
    "    with record_function(\"mySpecAugment\"):\n",
    "        augmented = torch_spec(librosa_mel)\n",
    "\n",
    "print(prof.key_averages().table(sort_by=\"cpu_time_total\", row_limit=10))"
   ]
  },
  {
   "cell_type": "code",
   "execution_count": 3,
   "metadata": {},
   "outputs": [],
   "source": [
    "torch_data, sr  = torchaudio.load('audio_data/lex_6.wav')\n",
    "\n",
    "mel_transform = torchaudio.transforms.MelSpectrogram(sample_rate=sr, n_fft=2048, win_length=1024)\n",
    "torch_mel = mel_transform(torch_data[0])\n",
    "\n",
    "torch_mel = torch_mel.unsqueeze(0)"
   ]
  },
  {
   "cell_type": "code",
   "execution_count": 4,
   "metadata": {},
   "outputs": [
    {
     "data": {
      "text/plain": [
       "torch.Size([1, 128, 517])"
      ]
     },
     "execution_count": 4,
     "metadata": {},
     "output_type": "execute_result"
    }
   ],
   "source": [
    "torch_mel.shape"
   ]
  },
  {
   "cell_type": "code",
   "execution_count": 19,
   "metadata": {},
   "outputs": [
    {
     "name": "stdout",
     "output_type": "stream",
     "text": [
      "-------------------------  ------------  ------------  ------------  ------------  ------------  ------------  \n",
      "                     Name    Self CPU %      Self CPU   CPU total %     CPU total  CPU time avg    # of Calls  \n",
      "-------------------------  ------------  ------------  ------------  ------------  ------------  ------------  \n",
      "         torchTimeStretch        22.91%       1.231ms       100.00%       5.373ms       5.373ms             1  \n",
      "                aten::abs        10.68%     574.000us        20.98%       1.127ms     281.750us             4  \n",
      "              aten::polar         7.15%     384.000us        14.22%     764.000us     382.000us             2  \n",
      "                aten::pad         0.07%       4.000us        13.74%     738.000us     738.000us             1  \n",
      "    aten::constant_pad_nd         0.34%      18.000us        13.66%     734.000us     734.000us             1  \n",
      "                aten::mul         8.38%     450.000us         9.01%     484.000us     161.333us             3  \n",
      "              aten::fill_         8.77%     471.000us         8.77%     471.000us     471.000us             1  \n",
      "                aten::sub         8.65%     465.000us         8.75%     470.000us     117.500us             4  \n",
      "              aten::angle         6.12%     329.000us         6.59%     354.000us     118.000us             3  \n",
      "       aten::index_select         5.90%     317.000us         6.14%     330.000us     165.000us             2  \n",
      "-------------------------  ------------  ------------  ------------  ------------  ------------  ------------  \n",
      "Self CPU time total: 5.373ms\n",
      "\n"
     ]
    },
    {
     "name": "stderr",
     "output_type": "stream",
     "text": [
      "STAGE:2023-02-18 19:41:34 1707:3895196 ActivityProfilerController.cpp:311] Completed Stage: Warm Up\n",
      "STAGE:2023-02-18 19:41:34 1707:3895196 ActivityProfilerController.cpp:317] Completed Stage: Collection\n",
      "STAGE:2023-02-18 19:41:34 1707:3895196 ActivityProfilerController.cpp:321] Completed Stage: Post Processing\n"
     ]
    }
   ],
   "source": [
    "n_freq = torch_mel.shape[-2]\n",
    "stretch = torchaudio.transforms.TimeStretch(n_freq=n_freq)\n",
    "\n",
    "with profile(activities=[ProfilerActivity.CPU], record_shapes=True) as prof:\n",
    "    with record_function(\"torchTimeStretch\"):\n",
    "        augmented = stretch(torch_mel, 0.8)\n",
    "        \n",
    "print(prof.key_averages().table(sort_by=\"cpu_time_total\", row_limit=10))"
   ]
  },
  {
   "cell_type": "code",
   "execution_count": 18,
   "metadata": {},
   "outputs": [
    {
     "name": "stdout",
     "output_type": "stream",
     "text": [
      "-----------------------------  ------------  ------------  ------------  ------------  ------------  ------------  \n",
      "                         Name    Self CPU %      Self CPU   CPU total %     CPU total  CPU time avg    # of Calls  \n",
      "-----------------------------  ------------  ------------  ------------  ------------  ------------  ------------  \n",
      "             torchFreqMasking        83.49%       1.644ms       100.00%       1.969ms       1.969ms             1  \n",
      "            aten::masked_fill         0.56%      11.000us         6.96%     137.000us     137.000us             1  \n",
      "                  aten::copy_         3.15%      62.000us         3.15%      62.000us       7.750us             8  \n",
      "                  aten::clone         0.15%       3.000us         3.15%      62.000us      62.000us             1  \n",
      "           aten::masked_fill_         3.10%      61.000us         3.10%      61.000us      61.000us             1  \n",
      "                aten::__and__         0.10%       2.000us         1.88%      37.000us      37.000us             1  \n",
      "            aten::bitwise_and         1.78%      35.000us         1.78%      35.000us      35.000us             1  \n",
      "                     aten::to         0.30%       6.000us         1.52%      30.000us       4.286us             7  \n",
      "                aten::reshape         0.76%      15.000us         1.47%      29.000us      14.500us             2  \n",
      "                   aten::rand         0.56%      11.000us         1.47%      29.000us      14.500us             2  \n",
      "-----------------------------  ------------  ------------  ------------  ------------  ------------  ------------  \n",
      "Self CPU time total: 1.969ms\n",
      "\n"
     ]
    },
    {
     "name": "stderr",
     "output_type": "stream",
     "text": [
      "STAGE:2023-02-18 19:41:27 1707:3895196 ActivityProfilerController.cpp:311] Completed Stage: Warm Up\n",
      "STAGE:2023-02-18 19:41:27 1707:3895196 ActivityProfilerController.cpp:317] Completed Stage: Collection\n",
      "STAGE:2023-02-18 19:41:27 1707:3895196 ActivityProfilerController.cpp:321] Completed Stage: Post Processing\n"
     ]
    }
   ],
   "source": [
    "masking = torchaudio.transforms.FrequencyMasking(freq_mask_param=20)\n",
    "\n",
    "with profile(activities=[ProfilerActivity.CPU], record_shapes=True) as prof:\n",
    "    with record_function(\"torchFreqMasking\"):\n",
    "        augmented = masking(torch_mel)\n",
    "\n",
    "print(prof.key_averages().table(sort_by=\"cpu_time_total\", row_limit=10))"
   ]
  },
  {
   "attachments": {},
   "cell_type": "markdown",
   "metadata": {},
   "source": [
    "### Torch Built-ins"
   ]
  },
  {
   "cell_type": "code",
   "execution_count": 20,
   "metadata": {},
   "outputs": [],
   "source": [
    "torch_data, sr  = torchaudio.load('audio_data/lex_6.wav')\n",
    "librosa_mel = librosa.feature.melspectrogram(y=torch_data[0].numpy(),\n",
    "                                             n_fft=2048,\n",
    "                                             win_length=1024,\n",
    "                                             sr=sr)\n",
    "\n",
    "librosa_mel = torch.tensor(librosa_mel).unsqueeze(0)"
   ]
  },
  {
   "attachments": {},
   "cell_type": "markdown",
   "metadata": {},
   "source": [
    "Time Stretch"
   ]
  },
  {
   "cell_type": "code",
   "execution_count": 22,
   "metadata": {},
   "outputs": [
    {
     "name": "stdout",
     "output_type": "stream",
     "text": [
      "-------------------------  ------------  ------------  ------------  ------------  ------------  ------------  \n",
      "                     Name    Self CPU %      Self CPU   CPU total %     CPU total  CPU time avg    # of Calls  \n",
      "-------------------------  ------------  ------------  ------------  ------------  ------------  ------------  \n",
      "         torchTimeStretch        31.95%       1.136ms       100.00%       3.556ms       3.556ms             1  \n",
      "              aten::polar        10.69%     380.000us        21.23%     755.000us     377.500us             2  \n",
      "                aten::add         9.36%     333.000us         9.90%     352.000us     117.333us             3  \n",
      "       aten::index_select         7.26%     258.000us         8.35%     297.000us     148.500us             2  \n",
      "                aten::abs         3.74%     133.000us         7.28%     259.000us      64.750us             4  \n",
      "                aten::sub         6.21%     221.000us         6.58%     234.000us      58.500us             4  \n",
      "                aten::mul         6.02%     214.000us         6.13%     218.000us      72.667us             3  \n",
      "                aten::pad         0.11%       4.000us         5.71%     203.000us     203.000us             1  \n",
      "    aten::constant_pad_nd         0.51%      18.000us         5.60%     199.000us     199.000us             1  \n",
      "              aten::round         3.77%     134.000us         3.77%     134.000us     134.000us             1  \n",
      "-------------------------  ------------  ------------  ------------  ------------  ------------  ------------  \n",
      "Self CPU time total: 3.556ms\n",
      "\n"
     ]
    },
    {
     "name": "stderr",
     "output_type": "stream",
     "text": [
      "STAGE:2023-02-18 19:42:15 1707:3895196 ActivityProfilerController.cpp:311] Completed Stage: Warm Up\n",
      "STAGE:2023-02-18 19:42:15 1707:3895196 ActivityProfilerController.cpp:317] Completed Stage: Collection\n",
      "STAGE:2023-02-18 19:42:15 1707:3895196 ActivityProfilerController.cpp:321] Completed Stage: Post Processing\n"
     ]
    }
   ],
   "source": [
    "n_freq = librosa_mel.shape[-2]\n",
    "stretch = torchaudio.transforms.TimeStretch(n_freq=n_freq)\n",
    "\n",
    "with profile(activities=[ProfilerActivity.CPU], record_shapes=True) as prof:\n",
    "    with record_function(\"torchTimeStretch\"):\n",
    "        augmented = stretch(librosa_mel, 0.8)\n",
    "\n",
    "print(prof.key_averages().table(sort_by=\"cpu_time_total\", row_limit=10))"
   ]
  },
  {
   "attachments": {},
   "cell_type": "markdown",
   "metadata": {},
   "source": [
    "Masking"
   ]
  },
  {
   "cell_type": "code",
   "execution_count": 24,
   "metadata": {},
   "outputs": [
    {
     "name": "stdout",
     "output_type": "stream",
     "text": [
      "-----------------------------  ------------  ------------  ------------  ------------  ------------  ------------  \n",
      "                         Name    Self CPU %      Self CPU   CPU total %     CPU total  CPU time avg    # of Calls  \n",
      "-----------------------------  ------------  ------------  ------------  ------------  ------------  ------------  \n",
      "             torchFreqMasking        78.79%       1.805ms       100.00%       2.291ms       2.291ms             1  \n",
      "            aten::masked_fill         0.96%      22.000us         8.03%     184.000us     184.000us             1  \n",
      "           aten::masked_fill_         3.75%      86.000us         3.75%      86.000us      86.000us             1  \n",
      "                  aten::copy_         3.45%      79.000us         3.45%      79.000us       9.875us             8  \n",
      "                  aten::clone         0.22%       5.000us         3.01%      69.000us      69.000us             1  \n",
      "                     aten::to         1.57%      36.000us         2.97%      68.000us       9.714us             7  \n",
      "               aten::_to_copy         1.27%      29.000us         2.66%      61.000us       8.714us             7  \n",
      "                   aten::rand         0.70%      16.000us         1.70%      39.000us      19.500us             2  \n",
      "                    aten::mul         1.00%      23.000us         1.57%      36.000us      18.000us             2  \n",
      "                     aten::ge         1.05%      24.000us         1.31%      30.000us      15.000us             2  \n",
      "-----------------------------  ------------  ------------  ------------  ------------  ------------  ------------  \n",
      "Self CPU time total: 2.291ms\n",
      "\n"
     ]
    },
    {
     "name": "stderr",
     "output_type": "stream",
     "text": [
      "STAGE:2023-02-18 19:42:31 1707:3895196 ActivityProfilerController.cpp:311] Completed Stage: Warm Up\n",
      "STAGE:2023-02-18 19:42:31 1707:3895196 ActivityProfilerController.cpp:317] Completed Stage: Collection\n",
      "STAGE:2023-02-18 19:42:31 1707:3895196 ActivityProfilerController.cpp:321] Completed Stage: Post Processing\n"
     ]
    }
   ],
   "source": [
    "masking = torchaudio.transforms.FrequencyMasking(freq_mask_param=20)\n",
    "\n",
    "with profile(activities=[ProfilerActivity.CPU], record_shapes=True) as prof:\n",
    "    with record_function(\"torchFreqMasking\"):\n",
    "        augmented = masking(librosa_mel)\n",
    "\n",
    "print(prof.key_averages().table(sort_by=\"cpu_time_total\", row_limit=10))"
   ]
  },
  {
   "attachments": {},
   "cell_type": "markdown",
   "metadata": {},
   "source": [
    "### Fairseq"
   ]
  },
  {
   "cell_type": "code",
   "execution_count": 25,
   "metadata": {},
   "outputs": [],
   "source": [
    "fairseq_spec = \\\n",
    "    local_fairseq.SpecAugmentTransform(\n",
    "        time_warp_w = 150,\n",
    "        freq_mask_n = 2,\n",
    "        freq_mask_f = 40,\n",
    "        time_mask_n = 3,\n",
    "        time_mask_t = 10,\n",
    "        time_mask_p = 1.0,\n",
    ")"
   ]
  },
  {
   "cell_type": "code",
   "execution_count": 26,
   "metadata": {},
   "outputs": [],
   "source": [
    "librosa_mel = librosa.feature.melspectrogram(y=torch_data[0].numpy(),\n",
    "                                             n_fft=2048,\n",
    "                                             win_length=1024,\n",
    "                                             sr=sr)"
   ]
  },
  {
   "cell_type": "code",
   "execution_count": 27,
   "metadata": {},
   "outputs": [
    {
     "name": "stderr",
     "output_type": "stream",
     "text": [
      "STAGE:2023-02-18 19:42:41 1707:3895196 ActivityProfilerController.cpp:311] Completed Stage: Warm Up\n",
      "STAGE:2023-02-18 19:42:41 1707:3895196 ActivityProfilerController.cpp:317] Completed Stage: Collection\n",
      "STAGE:2023-02-18 19:42:41 1707:3895196 ActivityProfilerController.cpp:321] Completed Stage: Post Processing\n"
     ]
    }
   ],
   "source": [
    "with profile(activities=[ProfilerActivity.CPU], record_shapes=True) as prof:\n",
    "    with record_function(\"fairSpecAugment\"):\n",
    "        fairseq_spec(librosa_mel)"
   ]
  },
  {
   "cell_type": "code",
   "execution_count": 28,
   "metadata": {},
   "outputs": [
    {
     "name": "stdout",
     "output_type": "stream",
     "text": [
      "-------------------  ------------  ------------  ------------  ------------  ------------  ------------  \n",
      "               Name    Self CPU %      Self CPU   CPU total %     CPU total  CPU time avg    # of Calls  \n",
      "-------------------  ------------  ------------  ------------  ------------  ------------  ------------  \n",
      "    fairSpecAugment       100.00%     656.000us       100.00%     656.000us     656.000us             1  \n",
      "-------------------  ------------  ------------  ------------  ------------  ------------  ------------  \n",
      "Self CPU time total: 656.000us\n",
      "\n"
     ]
    }
   ],
   "source": [
    "print(prof.key_averages().table(sort_by=\"cpu_time_total\", row_limit=10))"
   ]
  },
  {
   "attachments": {},
   "cell_type": "markdown",
   "metadata": {},
   "source": [
    "# Benchmark"
   ]
  },
  {
   "cell_type": "code",
   "execution_count": 3,
   "metadata": {},
   "outputs": [],
   "source": [
    "import torch.utils.benchmark as benchmark"
   ]
  },
  {
   "cell_type": "code",
   "execution_count": 4,
   "metadata": {},
   "outputs": [],
   "source": [
    "torch_data, sr  = torchaudio.load('audio_data/lex_30.wav')\n",
    "librosa_mel = librosa.feature.melspectrogram(y=torch_data[0].numpy(),\n",
    "                                             n_fft=2048,\n",
    "                                             win_length=1024,\n",
    "                                             sr=sr)"
   ]
  },
  {
   "cell_type": "code",
   "execution_count": 5,
   "metadata": {},
   "outputs": [],
   "source": [
    "torch_spec = transforms.SpecAugment(\n",
    "            time_warp_w = 150,\n",
    "            freq_mask_n = 2,\n",
    "            freq_mask_f = 10,\n",
    "            time_mask_n = 3,\n",
    "            time_mask_t = 50,\n",
    "            time_mask_p = 1.0,\n",
    ")\n",
    "\n",
    "torch_spec_v2 = transforms_v2.SpecAugment(\n",
    "            warp_axis=1,\n",
    "            warp_w = 50,\n",
    "            freq_mask_num = 0,\n",
    "            freq_mask_param = 10,\n",
    "            freq_mask_p = 1.0,\n",
    "            time_mask_num = 5,\n",
    "            time_mask_param = 50,\n",
    "            time_mask_p = 1.0,\n",
    ")\n",
    "\n",
    "fairseq_spec = \\\n",
    "    local_fairseq.SpecAugmentTransform(\n",
    "        time_warp_w = 50,\n",
    "        freq_mask_n = 2,\n",
    "        freq_mask_f = 50,\n",
    "        time_mask_n = 2,\n",
    "        time_mask_t = 10,\n",
    "        time_mask_p = 1.0,\n",
    ")"
   ]
  },
  {
   "cell_type": "code",
   "execution_count": 6,
   "metadata": {},
   "outputs": [
    {
     "name": "stderr",
     "output_type": "stream",
     "text": [
      "[W ParallelNative.cpp:230] Warning: Cannot set number of intraop threads after parallel work has started or after set_num_threads call when using native parallel backend (function set_num_threads)\n",
      "[W ParallelNative.cpp:230] Warning: Cannot set number of intraop threads after parallel work has started or after set_num_threads call when using native parallel backend (function set_num_threads)\n",
      "[W ParallelNative.cpp:230] Warning: Cannot set number of intraop threads after parallel work has started or after set_num_threads call when using native parallel backend (function set_num_threads)\n"
     ]
    }
   ],
   "source": [
    "t0 = benchmark.Timer(\n",
    "    stmt='augmented = torch_spec(mel)',\n",
    "    setup='',\n",
    "    globals={\"mel\": torch.tensor(librosa_mel), \"torch_spec\": torch_spec})\n",
    "\n",
    "t1 = benchmark.Timer(\n",
    "    stmt='augmented = torch_spec_v2(mel)',\n",
    "    setup='',\n",
    "    globals={\"mel\": librosa_mel, \"torch_spec_v2\": torch_spec_v2})\n",
    "\n",
    "t2 = benchmark.Timer(\n",
    "    stmt='augmented = fairseq_spec(mel)',\n",
    "    setup='',\n",
    "    globals={\"mel\": librosa_mel, \"fairseq_spec\": fairseq_spec})\n",
    "\n",
    "\n",
    "res0 = t0.timeit(500)\n",
    "res1 = t1.timeit(500)\n",
    "res2 = t2.timeit(500)"
   ]
  },
  {
   "cell_type": "code",
   "execution_count": 7,
   "metadata": {},
   "outputs": [
    {
     "name": "stdout",
     "output_type": "stream",
     "text": [
      "<torch.utils.benchmark.utils.common.Measurement object at 0x104456bf0>\n",
      "augmented = torch_spec(mel)\n",
      "  4.65 ms\n",
      "  1 measurement, 500 runs , 1 thread\n",
      "<torch.utils.benchmark.utils.common.Measurement object at 0x104455090>\n",
      "augmented = torch_spec_v2(mel)\n",
      "  277.76 us\n",
      "  1 measurement, 500 runs , 1 thread\n",
      "<torch.utils.benchmark.utils.common.Measurement object at 0x104457b80>\n",
      "augmented = fairseq_spec(mel)\n",
      "  438.51 us\n",
      "  1 measurement, 500 runs , 1 thread\n"
     ]
    }
   ],
   "source": [
    "print(res0)\n",
    "print(res1)\n",
    "print(res2)"
   ]
  },
  {
   "cell_type": "code",
   "execution_count": null,
   "metadata": {},
   "outputs": [],
   "source": []
  }
 ],
 "metadata": {
  "kernelspec": {
   "display_name": "mlh",
   "language": "python",
   "name": "python3"
  },
  "language_info": {
   "codemirror_mode": {
    "name": "ipython",
    "version": 3
   },
   "file_extension": ".py",
   "mimetype": "text/x-python",
   "name": "python",
   "nbconvert_exporter": "python",
   "pygments_lexer": "ipython3",
   "version": "3.10.9"
  },
  "orig_nbformat": 4,
  "vscode": {
   "interpreter": {
    "hash": "3f155d8048402fb3a18cead813eb21a46e62cadb2f8bcd23e8ad5de04023dbc0"
   }
  }
 },
 "nbformat": 4,
 "nbformat_minor": 2
}
